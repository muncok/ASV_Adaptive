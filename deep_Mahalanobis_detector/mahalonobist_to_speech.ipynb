{
 "cells": [
  {
   "cell_type": "code",
   "execution_count": 47,
   "metadata": {},
   "outputs": [
    {
     "name": "stdout",
     "output_type": "stream",
     "text": [
      "The autoreload extension is already loaded. To reload it, use:\n",
      "  %reload_ext autoreload\n",
      "Using matplotlib backend: TkAgg\n",
      "Populating the interactive namespace from numpy and matplotlib\n"
     ]
    }
   ],
   "source": [
    "%load_ext autoreload\n",
    "%autoreload 2\n",
    "%pylab\n",
    "%matplotlib inline\n",
    "\n",
    "import pandas as pd\n",
    "import pickle\n",
    "import numpy as np\n",
    "import sys\n",
    "import os\n",
    "import torch"
   ]
  },
  {
   "cell_type": "code",
   "execution_count": 2,
   "metadata": {},
   "outputs": [],
   "source": [
    "# sys.path.append('/host/projects/sv_experiments/sv_system')\n",
    "os.environ[\"CUDA_DEVICE_ORDER\"]=\"PCI_BUS_ID\"   # see issue #152\n",
    "os.environ[\"CUDA_VISIBLE_DEVICES\"]=\"1\""
   ]
  },
  {
   "cell_type": "code",
   "execution_count": 10,
   "metadata": {},
   "outputs": [],
   "source": [
    "def key2df(keys, delimeter=\"-\"):\n",
    "    key_df = pd.DataFrame(keys, columns=['key'])\n",
    "    key_df['spk'] = key_df.key.apply(lambda x: x.split(delimeter)[0])\n",
    "    key_df['label'] = key_df.groupby('spk').ngroup()\n",
    "    key_df['origin'] = key_df.spk.apply(lambda x: 'voxc2' if x.startswith('id') else 'voxc1')\n",
    "    key_df = key_df.set_index('key')\n",
    "\n",
    "    return key_df"
   ]
  },
  {
   "cell_type": "code",
   "execution_count": 19,
   "metadata": {},
   "outputs": [],
   "source": [
    "# load embeds and make dataframe\n",
    "embeds = np.load(\"../xvector_embeds/sv_embeds.npy\")\n",
    "key = pickle.load(open(\"../xvector_embeds/sv_keys.pkl\", \"rb\"))\n",
    "key_df = key2df(key)\n",
    "label = np.array(key_df.label)"
   ]
  },
  {
   "cell_type": "markdown",
   "metadata": {},
   "source": [
    "## Gaussian modeling\n",
    "\n",
    "sample mean and tied precision matrix"
   ]
  },
  {
   "cell_type": "code",
   "execution_count": 111,
   "metadata": {},
   "outputs": [],
   "source": [
    "def sample_estimator(list_features, num_classes):\n",
    "    \"\"\"\n",
    "    compute sample mean and precision (inverse of covariance)\n",
    "    input: \n",
    "        list_features: list of features. n_features * [n_class x n_samples x feat_dim]\n",
    "    return: sample_class_mean: list of class mean\n",
    "             precision: list of precisions\n",
    "    \"\"\"\n",
    "    import sklearn.covariance\n",
    "    \n",
    "    group_lasso = sklearn.covariance.EmpiricalCovariance(assume_centered=False)\n",
    "    feature_list = [feat[0].shape[1] for feat in list_features]\n",
    "\n",
    "    sample_class_mean = []\n",
    "    out_count = 0\n",
    "    for num_feature in feature_list:\n",
    "        temp_list = torch.Tensor(num_classes, int(num_feature))\n",
    "        for j in range(num_classes):\n",
    "            temp_list[j] = torch.mean(list_features[out_count][j], 0)\n",
    "        sample_class_mean.append(temp_list)\n",
    "        out_count += 1\n",
    "        \n",
    "    precision = []\n",
    "    for k in range(len(list_features)):\n",
    "        X = 0\n",
    "        for i in range(num_classes):\n",
    "            if i == 0:\n",
    "                X = list_features[k][i] - sample_class_mean[k][i]\n",
    "            else:\n",
    "                X = torch.cat((X, list_features[k][i] - sample_class_mean[k][i]), 0)\n",
    "        # find inverse            \n",
    "        group_lasso.fit(X.cpu().numpy())\n",
    "        temp_precision = group_lasso.precision_\n",
    "        temp_precision = torch.from_numpy(temp_precision).float()\n",
    "        precision.append(temp_precision)\n",
    "        \n",
    "    return sample_class_mean, precision"
   ]
  },
  {
   "cell_type": "code",
   "execution_count": 364,
   "metadata": {},
   "outputs": [],
   "source": [
    "n_classes = 20\n",
    "chosen_spks = np.random.choice(key_df.spk.unique(), size=n_classes, replace=False)\n",
    "\n",
    "train_embeds = []\n",
    "in_val_embeds = []\n",
    "for spk in chosen_spks:\n",
    "    spk_embeds = embeds[np.nonzero(key_df.spk == spk)]\n",
    "    np.random.shuffle(spk_embeds)\n",
    "    n_samples = len(spk_embeds)\n",
    "    t_emb = torch.from_numpy(spk_embeds[:int(n_samples*0.8)])\n",
    "    v_emb = torch.from_numpy(spk_embeds[int(n_samples*0.8):])\n",
    "    train_embeds.append(t_emb)\n",
    "    in_val_embeds.append(v_emb)"
   ]
  },
  {
   "cell_type": "code",
   "execution_count": 365,
   "metadata": {},
   "outputs": [],
   "source": [
    "list_features = [train_embeds]"
   ]
  },
  {
   "cell_type": "code",
   "execution_count": 366,
   "metadata": {},
   "outputs": [],
   "source": [
    "sample_mean, precision = sample_estimator(list_features, n_classes)"
   ]
  },
  {
   "cell_type": "code",
   "execution_count": 367,
   "metadata": {},
   "outputs": [],
   "source": [
    "precision = prec_"
   ]
  },
  {
   "cell_type": "markdown",
   "metadata": {},
   "source": [
    "## Compute mahalonobis scores"
   ]
  },
  {
   "cell_type": "code",
   "execution_count": 353,
   "metadata": {},
   "outputs": [],
   "source": [
    "def get_Mahalanobis_score(test_features, sample_mean, precision, num_classes, layer_index, magnitude):\n",
    "    '''\n",
    "    Compute the proposed Mahalanobis confidence score on input dataset\n",
    "    return: Mahalanobis score from layer_index\n",
    "    '''\n",
    "    Mahalanobis = []\n",
    "    out_features = test_features\n",
    "        \n",
    "    # compute Mahalanobis score\n",
    "    gaussian_score = 0\n",
    "    for i in range(num_classes):\n",
    "        batch_sample_mean = sample_mean[layer_index][i]\n",
    "        zero_f = out_features - batch_sample_mean\n",
    "        term_gau = -0.5*torch.mm(torch.mm(zero_f, precision[layer_index]), zero_f.t()).diag()\n",
    "        if i == 0:\n",
    "            gaussian_score = term_gau.view(-1,1)\n",
    "        else:\n",
    "            gaussian_score = torch.cat((gaussian_score, term_gau.view(-1,1)), 1)\n",
    "            \n",
    "    gaussian_score, _ = torch.max(gaussian_score, dim=1)\n",
    "    Mahalanobis.extend(gaussian_score.cpu().numpy())\n",
    "        \n",
    "    return Mahalanobis"
   ]
  },
  {
   "cell_type": "code",
   "execution_count": 368,
   "metadata": {},
   "outputs": [],
   "source": [
    "in_embeds = torch.from_numpy(np.concatenate(in_val_embeds, axis=0))\n",
    "out_sample_index = np.nonzero(~key_df.spk.isin(chosen_spks))\n",
    "out_embeds = torch.from_numpy(\n",
    "    embeds[np.random.choice(out_sample_index[0], size=len(in_embeds)*1, replace=False)])"
   ]
  },
  {
   "cell_type": "code",
   "execution_count": 369,
   "metadata": {},
   "outputs": [
    {
     "name": "stdout",
     "output_type": "stream",
     "text": [
      "get Mahalanobis scores\n",
      "Noise: 0.1\n"
     ]
    }
   ],
   "source": [
    "print('get Mahalanobis scores')\n",
    "# m_list = [0.0, 0.01, 0.005, 0.002, 0.0014, 0.001, 0.0005]\n",
    "m_list = [0.1]\n",
    "for magnitude in m_list:\n",
    "    print('Noise: ' + str(magnitude))\n",
    "    for i in range(len(list_features)): # number of features\n",
    "        M_in = get_Mahalanobis_score(in_embeds, sample_mean, precision, n_classes, i, magnitude)\n",
    "        M_in = np.asarray(M_in, dtype=np.float32)\n",
    "        if i == 0:\n",
    "            Mahalanobis_in = M_in.reshape((M_in.shape[0], -1))\n",
    "        else:\n",
    "            Mahalanobis_in = np.concatenate((Mahalanobis_in, M_in.reshape((M_in.shape[0], -1))), axis=1)\n",
    "            \n",
    "        M_out = get_Mahalanobis_score(out_embeds, sample_mean, precision, n_classes, i, magnitude)\n",
    "        M_out = np.asarray(M_out, dtype=np.float32)\n",
    "        if i == 0:\n",
    "            Mahalanobis_out = M_out.reshape((M_out.shape[0], -1))\n",
    "        else:\n",
    "            Mahalanobis_out = np.concatenate((Mahalanobis_out, M_out.reshape((M_out.shape[0], -1))), axis=1)"
   ]
  },
  {
   "cell_type": "code",
   "execution_count": 370,
   "metadata": {},
   "outputs": [],
   "source": [
    "# consine score\n",
    "from sklearn.metrics import roc_curve\n",
    "\n",
    "def compute_eer(pos_scores, neg_scores):\n",
    "    score_vector = np.concatenate([pos_scores, neg_scores])\n",
    "    label_vector = np.concatenate([np.ones(len(pos_scores)), np.zeros(len(neg_scores))])\n",
    "    fpr, tpr, thres = roc_curve(label_vector, score_vector, pos_label=1)\n",
    "    eer = np.min([fpr[np.nanargmin(np.abs(fpr - (1 - tpr)))],\n",
    "                 1-tpr[np.nanargmin(np.abs(fpr - (1 - tpr)))]])\n",
    "    thres = thres[np.nanargmin(np.abs(fpr - (1 - tpr)))]\n",
    "    \n",
    "    return eer"
   ]
  },
  {
   "cell_type": "code",
   "execution_count": 371,
   "metadata": {},
   "outputs": [
    {
     "name": "stdout",
     "output_type": "stream",
     "text": [
      "eer: 17.3397%\n"
     ]
    }
   ],
   "source": [
    "pos_scores = Mahalanobis_in.flatten()\n",
    "neg_scores = Mahalanobis_out.flatten()\n",
    "eer = compute_eer(pos_scores, neg_scores)\n",
    "print(\"eer: {:.4f}%\".format(eer*100))"
   ]
  },
  {
   "cell_type": "code",
   "execution_count": 358,
   "metadata": {},
   "outputs": [
    {
     "data": {
      "image/png": "[encoded data removed]",
      "text/plain": [
       "<Figure size 432x288 with 1 Axes>"
      ]
     },
     "metadata": {},
     "output_type": "display_data"
    }
   ],
   "source": [
    "plt.hist(Mahalanobis_in, bins=100, alpha=0.5)\n",
    "plt.hist(Mahalanobis_out, bins=100, alpha=0.5)\n",
    "plt.xlim([-2500, -400])\n",
    "plt.show()"
   ]
  },
  {
   "cell_type": "markdown",
   "metadata": {},
   "source": [
    "## Cosine score"
   ]
  },
  {
   "cell_type": "code",
   "execution_count": 359,
   "metadata": {},
   "outputs": [],
   "source": [
    "speaker_model = torch.stack([torch.mean(emb, dim=0, keepdim=True) for emb in train_embeds], dim=0)"
   ]
  },
  {
   "cell_type": "code",
   "execution_count": 360,
   "metadata": {},
   "outputs": [],
   "source": [
    "from torch.nn.functional import cosine_similarity as cosine_sim\n",
    "\n",
    "in_scores, _ = torch.max(cosine_sim(speaker_model, in_embeds.unsqueeze(0), dim=2), dim=0)\n",
    "in_scores = in_scores.numpy().tolist()\n",
    "\n",
    "out_scores, _ = torch.max(cosine_sim(speaker_model, out_embeds.unsqueeze(0), dim=2), dim=0)\n",
    "out_scores = out_scores.numpy().tolist()"
   ]
  },
  {
   "cell_type": "code",
   "execution_count": 361,
   "metadata": {},
   "outputs": [
    {
     "name": "stdout",
     "output_type": "stream",
     "text": [
      "eer: 7.5201%\n"
     ]
    }
   ],
   "source": [
    "pos_scores = in_scores\n",
    "neg_scores = out_scores\n",
    "eer = compute_eer(pos_scores, neg_scores)\n",
    "print(\"eer: {:.4f}%\".format(eer*100))"
   ]
  },
  {
   "cell_type": "code",
   "execution_count": null,
   "metadata": {},
   "outputs": [],
   "source": []
  }
 ],
 "metadata": {
  "kernelspec": {
   "display_name": "Python 3",
   "language": "python",
   "name": "python3"
  },
  "language_info": {
   "codemirror_mode": {
    "name": "ipython",
    "version": 3
   },
   "file_extension": ".py",
   "mimetype": "text/x-python",
   "name": "python",
   "nbconvert_exporter": "python",
   "pygments_lexer": "ipython3",
   "version": "3.6.5"
  }
 },
 "nbformat": 4,
 "nbformat_minor": 2
}
